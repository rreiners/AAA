{
 "cells": [
  {
   "cell_type": "markdown",
   "metadata": {},
   "source": [
    "## **Advanced Analyitcs and Applications - Data Collection Strategy**\n",
    "\n",
    "Desciption \n",
    "\n",
    "#### Team: \n",
    "- Robin Reiners\n",
    "- Saied Farham Nia\n",
    "\n",
    "##### **Table of Contents**\n",
    "\n",
    "0. [Notebook Setup](#Notebook-Set-Up-and-Imports)\n",
    "1. [Introduction](#Introduction)\n",
    "\n",
    "7. [References](#References)"
   ]
  },
  {
   "cell_type": "markdown",
   "metadata": {},
   "source": [
    "##### **Notebook Set Up and Imports**"
   ]
  },
  {
   "cell_type": "code",
   "execution_count": 1,
   "metadata": {},
   "outputs": [
    {
     "data": {
      "text/html": [
       "<style>\n",
       ".dataframe th {\n",
       "    font-family: \"JetBrainsMono Nerd Font\";\n",
       "}\n",
       ".dataframe td {\n",
       "    font-family: \"JetBrainsMono Nerd Font\";\n",
       "}\n",
       "</style>\n"
      ],
      "text/plain": [
       "<IPython.core.display.HTML object>"
      ]
     },
     "metadata": {},
     "output_type": "display_data"
    }
   ],
   "source": [
    "%%html\n",
    "<style>\n",
    ".dataframe th {\n",
    "    font-family: \"JetBrainsMono Nerd Font\";\n",
    "}\n",
    ".dataframe td {\n",
    "    font-family: \"JetBrainsMono Nerd Font\";\n",
    "}\n",
    "</style>"
   ]
  },
  {
   "cell_type": "code",
   "execution_count": 2,
   "metadata": {},
   "outputs": [],
   "source": [
    "import importlib\n",
    "import os\n",
    "import pickle\n",
    "import subprocess\n",
    "import sys\n",
    "from pathlib import Path\n",
    "\n",
    "import matplotlib.pyplot as plt\n",
    "import numpy as np\n",
    "import pandas as pd\n",
    "import requests\n",
    "import seaborn as sns\n",
    "import yaml"
   ]
  },
  {
   "cell_type": "code",
   "execution_count": 3,
   "metadata": {},
   "outputs": [],
   "source": [
    "sys.path.append(str(Path.cwd().parent))\n",
    "from src.utils.notebook_setup import load_files, setup_notebook\n",
    "\n",
    "style_manager = setup_notebook()\n",
    "\n",
    "if str(Path().resolve()).split(\"/\")[-1] == \"AAA\":\n",
    "    print(\"already set repo root\")\n",
    "else:\n",
    "    notebooks_dir = Path().resolve()\n",
    "    repo_root = notebooks_dir.parent\n",
    "    config_dir = repo_root / \"config\"\n",
    "    data_dir = repo_root / \"data\"\n",
    "    results_dir = data_dir / \"results\"\n",
    "    raw_data_dir = data_dir / \"raw\"\n",
    "    processed_data_dir = data_dir / \"processed\"\n",
    "\n",
    "    with open(config_dir / \"config.yaml\", \"r\") as file:\n",
    "        config = yaml.safe_load(file)\n",
    "    \n",
    "    os.chdir(repo_root)"
   ]
  },
  {
   "cell_type": "markdown",
   "metadata": {},
   "source": [
    "## Introduction\n",
    "[Back to Table of Contents](#Table-of-Contents)"
   ]
  },
  {
   "cell_type": "code",
   "execution_count": 4,
   "metadata": {},
   "outputs": [
    {
     "data": {
      "text/plain": [
       "<module 'src.api.taxi' from '/workspaces/AAA/src/api/taxi.py'>"
      ]
     },
     "execution_count": 4,
     "metadata": {},
     "output_type": "execute_result"
    }
   ],
   "source": [
    "from src.api import taxi\n",
    "importlib.reload(taxi)"
   ]
  },
  {
   "cell_type": "code",
   "execution_count": 11,
   "metadata": {},
   "outputs": [],
   "source": [
    "from src.api.taxi import ChicagoTaxiAPI\n",
    "\n",
    "api = ChicagoTaxiAPI(\n",
    "    app_token=config[\"CHICAGO_TAXI\"].get(\"APP_TOKEN\", None)\n",
    ")\n",
    "\n",
    "df_sample = api.fetch_data(\n",
    "    select = (\n",
    "        \"trip_id, taxi_id, trip_start_timestamp, trip_end_timestamp, trip_seconds, \"\n",
    "        \"trip_miles, pickup_census_tract, dropoff_census_tract, pickup_community_area, \"\n",
    "        \"dropoff_community_area, fare, tips, tolls, extras, trip_total, payment_type, \"\n",
    "        \"company, pickup_centroid_location, dropoff_centroid_location\"\n",
    "    ),\n",
    "    where=(\n",
    "        \"pickup_centroid_location IS NOT NULL \"\n",
    "        \"AND dropoff_centroid_location IS NOT NULL \"\n",
    "        \"AND trip_start_timestamp >= trip_end_timestamp \"\n",
    "        \"AND trip_start_timestamp IS NOT NULL\"\n",
    "    ), \n",
    "    order=\"trip_start_timestamp DESC\",\n",
    "    limit=300_000,\n",
    ")\n",
    "\n",
    "api.close()"
   ]
  },
  {
   "cell_type": "code",
   "execution_count": null,
   "metadata": {},
   "outputs": [
    {
     "name": "stdout",
     "output_type": "stream",
     "text": [
      "Estimated total records to fetch: 1917889\n"
     ]
    },
    {
     "name": "stderr",
     "output_type": "stream",
     "text": [
      "Fetching all data:  89%|████████▊ | 1700000/1917889 [04:52<00:36, 5960.09rec/s]"
     ]
    }
   ],
   "source": [
    "df_batch_sample = api.fetch_batch_data(\n",
    "    select = (\n",
    "        \"trip_id, taxi_id, trip_start_timestamp, trip_end_timestamp, trip_seconds, \"\n",
    "        \"trip_miles, pickup_census_tract, dropoff_census_tract, pickup_community_area, \"\n",
    "        \"dropoff_community_area, fare, tips, tolls, extras, trip_total, payment_type, \"\n",
    "        \"company, pickup_centroid_location, dropoff_centroid_location\"\n",
    "    ),\n",
    "    where=(\n",
    "        \"pickup_centroid_location IS NOT NULL \"\n",
    "        \"AND dropoff_centroid_location IS NOT NULL \"\n",
    "        \"AND trip_start_timestamp >= trip_end_timestamp \"\n",
    "        \"AND trip_start_timestamp IS NOT NULL\"\n",
    "    ), \n",
    "    output_dir=raw_data_dir\n",
    ")"
   ]
  },
  {
   "cell_type": "code",
   "execution_count": null,
   "metadata": {},
   "outputs": [],
   "source": [
    "from src.api.weather import ChicagoWeatherAPI\n",
    "from datetime import date\n",
    "\n",
    "weather_api = ChicagoWeatherAPI()\n",
    "\n",
    "try:\n",
    "    # --- Example 1: Get historical weather for a few days ---\n",
    "    print(\"\\n--- Example 1: Fetching historical weather for last week ---\")\n",
    "    today = date.today()\n",
    "    seven_days_ago = today - pd.Timedelta(days=7)\n",
    "    one_day_ago = today - pd.Timedelta(days=1)\n",
    "\n",
    "    historical_df = weather_api.get_historical_weather(\n",
    "        start_date=seven_days_ago.strftime(\"%Y-%m-%d\"),\n",
    "        end_date=one_day_ago.strftime(\"%Y-%m-%d\"), # Open-Meteo historical is up to 2 days ago\n",
    "        hourly_vars=[\"temperature_2m\", \"precipitation\", \"weather_code\", \"wind_speed_10m\"],\n",
    "        daily_vars=[\"temperature_2m_max\", \"temperature_2m_min\", \"precipitation_sum\"] # request both\n",
    "    )\n",
    "\n",
    "    if historical_df is not None:\n",
    "        print(f\"Fetched {len(historical_df)} hourly historical records:\")\n",
    "        print(historical_df.head())\n",
    "        # If you want to see the daily data, you'd need to adapt the method to return it\n",
    "        # or make a separate call specifically for daily data if the API structures it separately\n",
    "        # For Open-Meteo, if you request both hourly and daily, the hourly data is typically primary in the response structure.\n",
    "        # The current implementation prioritizes hourly.\n",
    "        # Let's try fetching only daily for a clearer example:\n",
    "        daily_historical_df = weather_api.get_historical_weather(\n",
    "            start_date=seven_days_ago.strftime(\"%Y-%m-%d\"),\n",
    "            end_date=one_day_ago.strftime(\"%Y-%m-%d\"),\n",
    "            hourly_vars=[], # No hourly\n",
    "            daily_vars=[\"temperature_2m_max\", \"temperature_2m_min\", \"precipitation_sum\", \"weather_code\"]\n",
    "        )\n",
    "        if daily_historical_df is not None:\n",
    "            print(f\"\\nFetched {len(daily_historical_df)} daily historical records:\")\n",
    "            print(daily_historical_df.head())\n",
    "\n",
    "\n",
    "    else:\n",
    "        print(\"Failed to fetch historical weather data.\")\n",
    "\n",
    "    # --- Example 2: Get 3-day weather forecast ---\n",
    "    print(\"\\n--- Example 2: Fetching 3-day weather forecast ---\")\n",
    "    forecast_df = weather_api.get_forecast_weather(\n",
    "        days=3,\n",
    "        hourly_vars=[\"temperature_2m\", \"apparent_temperature\", \"precipitation_probability\"],\n",
    "        daily_vars=[\"sunrise\", \"sunset\", \"uv_index_max\"]\n",
    "    )\n",
    "    if forecast_df is not None:\n",
    "        print(f\"Fetched {len(forecast_df)} hourly forecast records:\")\n",
    "        print(forecast_df.head())\n",
    "        # Similar to historical, current implementation prioritizes hourly for return.\n",
    "        # You could modify it to return both daily and hourly if needed, e.g., as a dict of DataFrames.\n",
    "    else:\n",
    "        print(\"Failed to fetch forecast weather data.\")\n",
    "        \n",
    "    # --- Example 3: Get specific historical variable (e.g., only daily max temp) ---\n",
    "    print(\"\\n--- Example 3: Fetching only daily max temperature for 5 days ---\")\n",
    "    five_days_ago = today - pd.Timedelta(days=5)\n",
    "    max_temp_df = weather_api.get_historical_weather(\n",
    "        start_date=five_days_ago.strftime(\"%Y-%m-%d\"),\n",
    "        end_date=one_day_ago.strftime(\"%Y-%m-%d\"),\n",
    "        hourly_vars=[], # Explicitly no hourly\n",
    "        daily_vars=[\"temperature_2m_max\"]\n",
    "    )\n",
    "    if max_temp_df is not None:\n",
    "        print(f\"Fetched daily max temperatures:\")\n",
    "        print(max_temp_df)\n",
    "    else:\n",
    "        print(\"Failed to fetch daily max temperatures.\")\n",
    "\n",
    "\n",
    "finally:\n",
    "    weather_api.close()"
   ]
  }
 ],
 "metadata": {
  "kernelspec": {
   "display_name": "Python (devcontainer)",
   "language": "python",
   "name": "myenv"
  },
  "language_info": {
   "codemirror_mode": {
    "name": "ipython",
    "version": 3
   },
   "file_extension": ".py",
   "mimetype": "text/x-python",
   "name": "python",
   "nbconvert_exporter": "python",
   "pygments_lexer": "ipython3",
   "version": "3.13.3"
  }
 },
 "nbformat": 4,
 "nbformat_minor": 2
}
